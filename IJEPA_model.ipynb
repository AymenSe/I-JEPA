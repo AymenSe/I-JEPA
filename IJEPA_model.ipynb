{
 "cells": [
  {
   "cell_type": "code",
   "execution_count": 3,
   "metadata": {},
   "outputs": [],
   "source": [
    "import torch\n",
    "import torch.nn as nn\n",
    "from x_transformers import Encoder\n",
    "from einops import rearrange, repeat"
   ]
  },
  {
   "cell_type": "code",
   "execution_count": 5,
   "metadata": {},
   "outputs": [],
   "source": [
    "'''\n",
    "PatchEmbed class, adapted from https://towardsdatascience.com/implementing-visualttransformer-in-pytorch-184f9f16f632 I think, but I dont have medium premium so idk\n",
    "- This class is used to convert the image into patches using a convolutional layer\n",
    "'''\n",
    "class PatchEmbed(nn.Module):\n",
    "    \"\"\"Image to Patch Embedding\"\"\"\n",
    "\n",
    "    def __init__(self, img_size=224, patch_size=16, in_chans=3, embed_dim=64):\n",
    "        super().__init__()\n",
    "        if isinstance(img_size, int):\n",
    "            img_size = img_size, img_size\n",
    "        if isinstance(patch_size, int):\n",
    "            patch_size = patch_size, patch_size\n",
    "        #calculate the number of patches\n",
    "        self.patch_shape = (img_size[0] // patch_size[0], img_size[1] // patch_size[1])\n",
    "\n",
    "        #convolutional layer to convert the image into patches\n",
    "        self.conv = nn.Conv2d(\n",
    "            in_chans, embed_dim, kernel_size=patch_size, stride=patch_size\n",
    "        )\n",
    "        \n",
    "\n",
    "    def forward(self, x):\n",
    "        x = self.conv(x)\n",
    "        #flatten the patches\n",
    "        x = rearrange(x, 'b e h w -> b (h w) e')\n",
    "        return x"
   ]
  },
  {
   "cell_type": "code",
   "execution_count": null,
   "metadata": {},
   "outputs": [],
   "source": [
    "class Encoder(nn.Module):\n",
    "    def __init__(self, img_size, patch_size, in_chans, embed_dim, depth, num_heads, post_emb_norm=True, M = 4):\n",
    "        super().__init__()\n",
    "        self.M = 4\n",
    "\n",
    "        #define the patch embedding and positional embedding\n",
    "        self.patch_embed = PatchEmbed(img_size=img_size, patch_size=patch_size, in_chans=in_chans, embed_dim=embed_dim)\n",
    "        self.num_tokens = self.patch_embed.patch_shape[0] * self.patch_embed.patch_shape[1]\n",
    "        self.pos_embedding = nn.Parameter(torch.randn(1, self.num_tokens+1, embed_dim))\n",
    "        \n",
    "        #define the cls and mask tokens\n",
    "        self.cls_token = nn.Parameter(torch.randn(1, 1, embed_dim))\n",
    "        self.mask_token = nn.Parameter(torch.randn(1, 1, embed_dim))\n",
    "        nn.init.trunc_normal_(self.cls_token, 0.02)\n",
    "        nn.init.trunc_normal_(self.mask_token, 0.02)\n",
    "\n",
    "        #define the encoder and decoder, as well as the layer normalization and dropout\n",
    "        self.post_emb_norm = nn.LayerNorm(embed_dim) if post_emb_norm else nn.Identity()\n",
    "        self.norm = nn.LayerNorm(embed_dim)\n",
    "        self.encoder = Encoder(\n",
    "            dim=embed_dim,\n",
    "            heads=num_heads,\n",
    "            depth=depth, \n",
    "        )    \n",
    "    def forward(self, x):\n",
    "        #get the patch embeddings\n",
    "        x = self.patch_embed(x)\n",
    "        #add the cls and mask tokens\n",
    "        cls_tokens = repeat(self.cls_token, '() n e -> b n e', b=x.shape[0])\n",
    "        mask_tokens = repeat(self.mask_token, '() n e -> b n e', b=x.shape[0])\n",
    "        x = torch.cat((cls_tokens, mask_tokens, x), dim=1)\n",
    "        #add the positional embeddings\n",
    "        x = x + self.pos_embedding\n",
    "        #normalize the embeddings\n",
    "        x = self.post_emb_norm(x)\n",
    "        #get teacher targets:\n",
    "        \n",
    "\n",
    "        return x\n",
    "\n"
   ]
  },
  {
   "cell_type": "code",
   "execution_count": 6,
   "metadata": {},
   "outputs": [
    {
     "name": "stdout",
     "output_type": "stream",
     "text": [
      "torch.Size([1, 196, 64])\n"
     ]
    }
   ],
   "source": [
    "x = torch.randn(1, 3, 224, 224)\n",
    "patch_embed = PatchEmbed()\n",
    "x = patch_embed(x)\n",
    "print(x.shape)"
   ]
  }
 ],
 "metadata": {
  "kernelspec": {
   "display_name": "I-JEPA",
   "language": "python",
   "name": "python3"
  },
  "language_info": {
   "codemirror_mode": {
    "name": "ipython",
    "version": 3
   },
   "file_extension": ".py",
   "mimetype": "text/x-python",
   "name": "python",
   "nbconvert_exporter": "python",
   "pygments_lexer": "ipython3",
   "version": "3.9.16"
  },
  "orig_nbformat": 4,
  "vscode": {
   "interpreter": {
    "hash": "35ea2099950cd15df7b9a06c51a713fb6ae956f4b75d9235c1dc9e656081fe18"
   }
  }
 },
 "nbformat": 4,
 "nbformat_minor": 2
}
